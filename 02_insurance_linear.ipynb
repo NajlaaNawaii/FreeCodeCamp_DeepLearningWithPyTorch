{
  "cells": [
    {
      "cell_type": "code",
      "execution_count": null,
      "metadata": {
        "id": "ortLMpvG7xrN"
      },
      "outputs": [],
      "source": [
        "# Jovian Commit Essentials\n",
        "# Please retain and execute this cell without modifying the contents for `jovian.commit` to work\n",
        "!pip install jovian --upgrade -q\n",
        "import jovian\n",
        "jovian.set_project('02-insurance-linear-regression')\n",
        "# jovian.set_colab_id('17SaFcfP-AdsGSRFZIMSmAAcLLWpxDBDV')"
      ]
    },
    {
      "cell_type": "markdown",
      "metadata": {
        "_cell_guid": "b1076dfc-b9ad-4769-8c92-a6c4dae69d19",
        "_uuid": "8f2839f25d086af736a60e9eeb907d3b93b6e0e5",
        "id": "TrzBJM3w7xrZ"
      },
      "source": [
        "# Insurance cost prediction using linear regression\n",
        "\n",
        "In this assignment we're going to use information like a person's age, sex, BMI, no. of children and smoking habit to predict the price of yearly medical bills. This kind of model is useful for insurance companies to determine the yearly insurance premium for a person. The dataset for this problem is taken from: https://www.kaggle.com/mirichoi0218/insurance\n",
        "\n",
        "\n",
        "We will create a model with the following steps:\n",
        "1. Download and explore the dataset\n",
        "2. Prepare the dataset for training\n",
        "3. Create a linear regression model\n",
        "4. Train the model to fit the data\n",
        "5. Make predictions using the trained model\n",
        "\n",
        "\n",
        "This assignment builds upon the concepts from the first 2 lectures. It will help to review these Jupyter notebooks:\n",
        "- PyTorch basics: https://jovian.ml/aakashns/01-pytorch-basics\n",
        "- Linear Regression: https://jovian.ml/aakashns/02-linear-regression\n",
        "- Logistic Regression: https://jovian.ml/aakashns/03-logistic-regression\n",
        "- Linear regression (minimal): https://jovian.ml/aakashns/housing-linear-minimal\n",
        "- Logistic regression (minimal): https://jovian.ml/aakashns/mnist-logistic-minimal\n",
        "\n",
        "As you go through this notebook, you will find a **???** in certain places. Your job is to replace the **???** with appropriate code or values, to ensure that the notebook runs properly end-to-end . In some cases, you'll be required to choose some hyperparameters (learning rate, batch size etc.). Try to experiment with the hypeparameters to get the lowest loss.\n"
      ]
    },
    {
      "cell_type": "code",
      "execution_count": null,
      "metadata": {
        "id": "UtHlSe5W7xre",
        "outputId": "6c9f817a-9872-4415-c60b-8f632ea6a219"
      },
      "outputs": [
        {
          "name": "stdout",
          "output_type": "stream",
          "text": [
            "Collecting package metadata (current_repodata.json): done\n",
            "Solving environment: done\n",
            "\n",
            "\n",
            "==> WARNING: A newer version of conda exists. <==\n",
            "  current version: 4.8.2\n",
            "  latest version: 4.8.3\n",
            "\n",
            "Please update conda by running\n",
            "\n",
            "    $ conda update -n base conda\n",
            "\n",
            "\n",
            "\n",
            "## Package Plan ##\n",
            "\n",
            "  environment location: /srv/conda/envs/notebook\n",
            "\n",
            "  added / updated specs:\n",
            "    - cpuonly\n",
            "    - numpy\n",
            "    - pytorch\n",
            "    - torchvision\n",
            "\n",
            "\n",
            "The following packages will be downloaded:\n",
            "\n",
            "    package                    |            build\n",
            "    ---------------------------|-----------------\n",
            "    blas-2.15                  |              mkl          10 KB  conda-forge\n",
            "    ca-certificates-2020.4.5.2 |       hecda079_0         147 KB  conda-forge\n",
            "    certifi-2020.4.5.2         |   py37hc8dfbb8_0         152 KB  conda-forge\n",
            "    cpuonly-1.0                |                0           2 KB  pytorch\n",
            "    freetype-2.10.2            |       he06d7ca_0         905 KB  conda-forge\n",
            "    intel-openmp-2020.1        |              217         780 KB  defaults\n",
            "    jpeg-9d                    |       h516909a_0         266 KB  conda-forge\n",
            "    libblas-3.8.0              |           15_mkl          10 KB  conda-forge\n",
            "    libcblas-3.8.0             |           15_mkl          10 KB  conda-forge\n",
            "    libgfortran-ng-7.5.0       |       hdf63c60_6         1.7 MB  conda-forge\n",
            "    liblapack-3.8.0            |           15_mkl          10 KB  conda-forge\n",
            "    liblapacke-3.8.0           |           15_mkl          10 KB  conda-forge\n",
            "    libpng-1.6.37              |       hed695b0_1         308 KB  conda-forge\n",
            "    libtiff-4.1.0              |       hc7e4089_6         668 KB  conda-forge\n",
            "    libwebp-base-1.1.0         |       h516909a_3         845 KB  conda-forge\n",
            "    lz4-c-1.9.2                |       he1b5a44_1         226 KB  conda-forge\n",
            "    mkl-2020.1                 |              217       129.0 MB  defaults\n",
            "    ninja-1.10.0               |       hc9558a2_0         1.9 MB  conda-forge\n",
            "    numpy-1.18.5               |   py37h8960a57_0         5.1 MB  conda-forge\n",
            "    olefile-0.46               |             py_0          31 KB  conda-forge\n",
            "    pillow-7.1.2               |   py37h718be6c_0         658 KB  conda-forge\n",
            "    pytorch-1.5.0              |      py3.7_cpu_0        90.5 MB  pytorch\n",
            "    torchvision-0.6.0          |         py37_cpu        11.0 MB  pytorch\n",
            "    zstd-1.4.4                 |       h6597ccf_3         991 KB  conda-forge\n",
            "    ------------------------------------------------------------\n",
            "                                           Total:       245.0 MB\n",
            "\n",
            "The following NEW packages will be INSTALLED:\n",
            "\n",
            "  blas               conda-forge/linux-64::blas-2.15-mkl\n",
            "  cpuonly            pytorch/noarch::cpuonly-1.0-0\n",
            "  freetype           conda-forge/linux-64::freetype-2.10.2-he06d7ca_0\n",
            "  intel-openmp       pkgs/main/linux-64::intel-openmp-2020.1-217\n",
            "  jpeg               conda-forge/linux-64::jpeg-9d-h516909a_0\n",
            "  libblas            conda-forge/linux-64::libblas-3.8.0-15_mkl\n",
            "  libcblas           conda-forge/linux-64::libcblas-3.8.0-15_mkl\n",
            "  libgfortran-ng     conda-forge/linux-64::libgfortran-ng-7.5.0-hdf63c60_6\n",
            "  liblapack          conda-forge/linux-64::liblapack-3.8.0-15_mkl\n",
            "  liblapacke         conda-forge/linux-64::liblapacke-3.8.0-15_mkl\n",
            "  libpng             conda-forge/linux-64::libpng-1.6.37-hed695b0_1\n",
            "  libtiff            conda-forge/linux-64::libtiff-4.1.0-hc7e4089_6\n",
            "  libwebp-base       conda-forge/linux-64::libwebp-base-1.1.0-h516909a_3\n",
            "  lz4-c              conda-forge/linux-64::lz4-c-1.9.2-he1b5a44_1\n",
            "  mkl                pkgs/main/linux-64::mkl-2020.1-217\n",
            "  ninja              conda-forge/linux-64::ninja-1.10.0-hc9558a2_0\n",
            "  numpy              conda-forge/linux-64::numpy-1.18.5-py37h8960a57_0\n",
            "  olefile            conda-forge/noarch::olefile-0.46-py_0\n",
            "  pillow             conda-forge/linux-64::pillow-7.1.2-py37h718be6c_0\n",
            "  pytorch            pytorch/linux-64::pytorch-1.5.0-py3.7_cpu_0\n",
            "  torchvision        pytorch/linux-64::torchvision-0.6.0-py37_cpu\n",
            "  zstd               conda-forge/linux-64::zstd-1.4.4-h6597ccf_3\n",
            "\n",
            "The following packages will be UPDATED:\n",
            "\n",
            "  ca-certificates                     2020.4.5.1-hecc5488_0 --> 2020.4.5.2-hecda079_0\n",
            "  certifi                         2020.4.5.1-py37hc8dfbb8_0 --> 2020.4.5.2-py37hc8dfbb8_0\n",
            "\n",
            "\n",
            "\n",
            "Downloading and Extracting Packages\n",
            "libgfortran-ng-7.5.0 | 1.7 MB    | ##################################### | 100% \n",
            "blas-2.15            | 10 KB     | ##################################### | 100% \n",
            "libpng-1.6.37        | 308 KB    | ##################################### | 100% \n",
            "pillow-7.1.2         | 658 KB    | ##################################### | 100% \n",
            "libcblas-3.8.0       | 10 KB     | ##################################### | 100% \n",
            "lz4-c-1.9.2          | 226 KB    | ##################################### | 100% \n",
            "jpeg-9d              | 266 KB    | ##################################### | 100% \n",
            "freetype-2.10.2      | 905 KB    | ##################################### | 100% \n",
            "cpuonly-1.0          | 2 KB      | ##################################### | 100% \n",
            "certifi-2020.4.5.2   | 152 KB    | ##################################### | 100% \n",
            "ninja-1.10.0         | 1.9 MB    | ##################################### | 100% \n",
            "liblapack-3.8.0      | 10 KB     | ##################################### | 100% \n",
            "pytorch-1.5.0        | 90.5 MB   | ##################################### | 100% \n",
            "ca-certificates-2020 | 147 KB    | ##################################### | 100% \n",
            "libwebp-base-1.1.0   | 845 KB    | ##################################### | 100% \n",
            "mkl-2020.1           | 129.0 MB  | ##################################### | 100% \n",
            "olefile-0.46         | 31 KB     | ##################################### | 100% \n",
            "libtiff-4.1.0        | 668 KB    | ##################################### | 100% \n",
            "zstd-1.4.4           | 991 KB    | ##################################### | 100% \n",
            "torchvision-0.6.0    | 11.0 MB   | ##################################### | 100% \n",
            "intel-openmp-2020.1  | 780 KB    | ##################################### | 100% \n",
            "libblas-3.8.0        | 10 KB     | ##################################### | 100% \n",
            "liblapacke-3.8.0     | 10 KB     | ##################################### | 100% \n",
            "numpy-1.18.5         | 5.1 MB    | ##################################### | 100% \n",
            "Preparing transaction: done\n",
            "Verifying transaction: done\n",
            "Executing transaction: done\n",
            "Requirement already satisfied: wheel in /srv/conda/envs/notebook/lib/python3.7/site-packages (0.34.2)\n",
            "Collecting pandas\n",
            "  Downloading pandas-1.0.4-cp37-cp37m-manylinux1_x86_64.whl (10.1 MB)\n",
            "\u001b[K     |████████████████████████████████| 10.1 MB 4.2 MB/s eta 0:00:01\n",
            "\u001b[?25hCollecting pytz>=2017.2\n",
            "  Downloading pytz-2020.1-py2.py3-none-any.whl (510 kB)\n",
            "\u001b[K     |████████████████████████████████| 510 kB 26.2 MB/s eta 0:00:01\n",
            "\u001b[?25hRequirement already satisfied: python-dateutil>=2.6.1 in /srv/conda/envs/notebook/lib/python3.7/site-packages (from pandas) (2.8.1)\n",
            "Requirement already satisfied: numpy>=1.13.3 in /srv/conda/envs/notebook/lib/python3.7/site-packages (from pandas) (1.18.5)\n",
            "Requirement already satisfied: six>=1.5 in /srv/conda/envs/notebook/lib/python3.7/site-packages (from python-dateutil>=2.6.1->pandas) (1.15.0)\n",
            "Installing collected packages: pytz, pandas\n",
            "Successfully installed pandas-1.0.4 pytz-2020.1\n"
          ]
        }
      ],
      "source": [
        "# # Uncomment and run the commands below if imports fail\n",
        "# !conda install numpy pytorch torchvision cpuonly -c pytorch -y\n",
        "# !pip install matplotlib --upgrade --quiet\n",
        "# !pip install jovian --upgrade --quiet\n",
        "# !pip install wheel\n",
        "# !pip install pandas"
      ]
    },
    {
      "cell_type": "code",
      "execution_count": null,
      "metadata": {
        "id": "ninm2OSQ7xrh"
      },
      "outputs": [],
      "source": [
        "import torch\n",
        "import jovian\n",
        "import torchvision\n",
        "import torch.nn as nn\n",
        "import pandas as pd\n",
        "import matplotlib.pyplot as plt\n",
        "import torch.nn.functional as F\n",
        "from torchvision.datasets.utils import download_url\n",
        "from torch.utils.data import DataLoader, TensorDataset, random_split"
      ]
    },
    {
      "cell_type": "code",
      "execution_count": null,
      "metadata": {
        "id": "pA6J_DGO7xrj"
      },
      "outputs": [],
      "source": [
        "project_name='02-insurance-linear-regression' # will be used by jovian.commit"
      ]
    },
    {
      "cell_type": "markdown",
      "metadata": {
        "id": "v4bKVM6a7xrk"
      },
      "source": [
        "## Step 1: Download and explore the data\n",
        "\n",
        "Let us begin by downloading the data. We'll use the `download_url` function from PyTorch to get the data as a CSV (comma-separated values) file. "
      ]
    },
    {
      "cell_type": "code",
      "execution_count": null,
      "metadata": {
        "_cell_guid": "79c7e3d0-c299-4dcb-8224-4455121ee9b0",
        "_uuid": "d629ff2d2480ee46fbb7e2d37f6b5fab8052498a",
        "id": "k6e0dCBA7xrn",
        "outputId": "e3d35243-dd0c-4e0a-bc01-bdb84851f0b5"
      },
      "outputs": [
        {
          "name": "stdout",
          "output_type": "stream",
          "text": [
            "Using downloaded and verified file: ./insurance.csv\n"
          ]
        }
      ],
      "source": [
        "DATASET_URL = \"https://hub.jovian.ml/wp-content/uploads/2020/05/insurance.csv\"\n",
        "DATA_FILENAME = \"insurance.csv\"\n",
        "download_url(DATASET_URL, '.')"
      ]
    },
    {
      "cell_type": "markdown",
      "metadata": {
        "id": "fQiTcaCS7xrp"
      },
      "source": [
        "To load the dataset into memory, we'll use the `read_csv` function from the `pandas` library. The data will be loaded as a Pandas dataframe. See this short tutorial to learn more: https://data36.com/pandas-tutorial-1-basics-reading-data-files-dataframes-data-selection/"
      ]
    },
    {
      "cell_type": "code",
      "execution_count": null,
      "metadata": {
        "id": "XXLOuPTc7xrr",
        "outputId": "8bbc6e79-976d-4127-b0f1-76262d50bd2c"
      },
      "outputs": [
        {
          "data": {
            "text/html": [
              "<div>\n",
              "<style scoped>\n",
              "    .dataframe tbody tr th:only-of-type {\n",
              "        vertical-align: middle;\n",
              "    }\n",
              "\n",
              "    .dataframe tbody tr th {\n",
              "        vertical-align: top;\n",
              "    }\n",
              "\n",
              "    .dataframe thead th {\n",
              "        text-align: right;\n",
              "    }\n",
              "</style>\n",
              "<table border=\"1\" class=\"dataframe\">\n",
              "  <thead>\n",
              "    <tr style=\"text-align: right;\">\n",
              "      <th></th>\n",
              "      <th>age</th>\n",
              "      <th>sex</th>\n",
              "      <th>bmi</th>\n",
              "      <th>children</th>\n",
              "      <th>smoker</th>\n",
              "      <th>region</th>\n",
              "      <th>charges</th>\n",
              "    </tr>\n",
              "  </thead>\n",
              "  <tbody>\n",
              "    <tr>\n",
              "      <th>0</th>\n",
              "      <td>19</td>\n",
              "      <td>female</td>\n",
              "      <td>27.900</td>\n",
              "      <td>0</td>\n",
              "      <td>yes</td>\n",
              "      <td>southwest</td>\n",
              "      <td>16884.92400</td>\n",
              "    </tr>\n",
              "    <tr>\n",
              "      <th>1</th>\n",
              "      <td>18</td>\n",
              "      <td>male</td>\n",
              "      <td>33.770</td>\n",
              "      <td>1</td>\n",
              "      <td>no</td>\n",
              "      <td>southeast</td>\n",
              "      <td>1725.55230</td>\n",
              "    </tr>\n",
              "    <tr>\n",
              "      <th>2</th>\n",
              "      <td>28</td>\n",
              "      <td>male</td>\n",
              "      <td>33.000</td>\n",
              "      <td>3</td>\n",
              "      <td>no</td>\n",
              "      <td>southeast</td>\n",
              "      <td>4449.46200</td>\n",
              "    </tr>\n",
              "    <tr>\n",
              "      <th>3</th>\n",
              "      <td>33</td>\n",
              "      <td>male</td>\n",
              "      <td>22.705</td>\n",
              "      <td>0</td>\n",
              "      <td>no</td>\n",
              "      <td>northwest</td>\n",
              "      <td>21984.47061</td>\n",
              "    </tr>\n",
              "    <tr>\n",
              "      <th>4</th>\n",
              "      <td>32</td>\n",
              "      <td>male</td>\n",
              "      <td>28.880</td>\n",
              "      <td>0</td>\n",
              "      <td>no</td>\n",
              "      <td>northwest</td>\n",
              "      <td>3866.85520</td>\n",
              "    </tr>\n",
              "  </tbody>\n",
              "</table>\n",
              "</div>"
            ],
            "text/plain": [
              "   age     sex     bmi  children smoker     region      charges\n",
              "0   19  female  27.900         0    yes  southwest  16884.92400\n",
              "1   18    male  33.770         1     no  southeast   1725.55230\n",
              "2   28    male  33.000         3     no  southeast   4449.46200\n",
              "3   33    male  22.705         0     no  northwest  21984.47061\n",
              "4   32    male  28.880         0     no  northwest   3866.85520"
            ]
          },
          "execution_count": 95,
          "metadata": {},
          "output_type": "execute_result"
        }
      ],
      "source": [
        "dataframe_raw = pd.read_csv(DATA_FILENAME)\n",
        "dataframe_raw.head()"
      ]
    },
    {
      "cell_type": "markdown",
      "metadata": {
        "id": "AW6MlwVs7xrs"
      },
      "source": [
        "We're going to do a slight customization of the data, so that you every participant receives a slightly different version of the dataset. Fill in your name below as a string (enter at least 5 characters)"
      ]
    },
    {
      "cell_type": "code",
      "execution_count": null,
      "metadata": {
        "id": "K57nTQMB7xrs"
      },
      "outputs": [],
      "source": [
        "your_name = 'Najlaa' # at least 5 characters"
      ]
    },
    {
      "cell_type": "markdown",
      "metadata": {
        "id": "bhc8fZVg7xrt"
      },
      "source": [
        "The `customize_dataset` function will customize the dataset slightly using your name as a source of random numbers."
      ]
    },
    {
      "cell_type": "code",
      "execution_count": null,
      "metadata": {
        "id": "uawRgTOo7xrt"
      },
      "outputs": [],
      "source": [
        "def customize_dataset(dataframe_raw, rand_str):\n",
        "    dataframe = dataframe_raw.copy(deep=True)\n",
        "    # drop some rows\n",
        "    dataframe = dataframe.sample(int(0.95*len(dataframe)), random_state=int(ord(rand_str[0])))\n",
        "    # scale input\n",
        "    dataframe.bmi = dataframe.bmi * ord(rand_str[1])/100.\n",
        "    # scale target\n",
        "    dataframe.charges = dataframe.charges * ord(rand_str[2])/100.\n",
        "    # drop column\n",
        "    if ord(rand_str[3]) % 2 == 1:\n",
        "        dataframe = dataframe.drop(['region'], axis=1)\n",
        "    return dataframe"
      ]
    },
    {
      "cell_type": "code",
      "execution_count": null,
      "metadata": {
        "id": "4JvdysCO7xru",
        "outputId": "42bb86c7-437a-4651-dbd5-fa1b4f7d2113"
      },
      "outputs": [
        {
          "data": {
            "text/html": [
              "<div>\n",
              "<style scoped>\n",
              "    .dataframe tbody tr th:only-of-type {\n",
              "        vertical-align: middle;\n",
              "    }\n",
              "\n",
              "    .dataframe tbody tr th {\n",
              "        vertical-align: top;\n",
              "    }\n",
              "\n",
              "    .dataframe thead th {\n",
              "        text-align: right;\n",
              "    }\n",
              "</style>\n",
              "<table border=\"1\" class=\"dataframe\">\n",
              "  <thead>\n",
              "    <tr style=\"text-align: right;\">\n",
              "      <th></th>\n",
              "      <th>age</th>\n",
              "      <th>sex</th>\n",
              "      <th>bmi</th>\n",
              "      <th>children</th>\n",
              "      <th>smoker</th>\n",
              "      <th>region</th>\n",
              "      <th>charges</th>\n",
              "    </tr>\n",
              "  </thead>\n",
              "  <tbody>\n",
              "    <tr>\n",
              "      <th>160</th>\n",
              "      <td>42</td>\n",
              "      <td>female</td>\n",
              "      <td>25.80200</td>\n",
              "      <td>0</td>\n",
              "      <td>yes</td>\n",
              "      <td>northwest</td>\n",
              "      <td>22629.628360</td>\n",
              "    </tr>\n",
              "    <tr>\n",
              "      <th>1326</th>\n",
              "      <td>42</td>\n",
              "      <td>female</td>\n",
              "      <td>31.88390</td>\n",
              "      <td>0</td>\n",
              "      <td>no</td>\n",
              "      <td>northeast</td>\n",
              "      <td>7473.022578</td>\n",
              "    </tr>\n",
              "    <tr>\n",
              "      <th>544</th>\n",
              "      <td>54</td>\n",
              "      <td>male</td>\n",
              "      <td>29.30370</td>\n",
              "      <td>0</td>\n",
              "      <td>no</td>\n",
              "      <td>northwest</td>\n",
              "      <td>10845.389894</td>\n",
              "    </tr>\n",
              "    <tr>\n",
              "      <th>624</th>\n",
              "      <td>59</td>\n",
              "      <td>male</td>\n",
              "      <td>27.92145</td>\n",
              "      <td>0</td>\n",
              "      <td>no</td>\n",
              "      <td>northwest</td>\n",
              "      <td>12857.390999</td>\n",
              "    </tr>\n",
              "    <tr>\n",
              "      <th>914</th>\n",
              "      <td>33</td>\n",
              "      <td>male</td>\n",
              "      <td>23.86685</td>\n",
              "      <td>2</td>\n",
              "      <td>no</td>\n",
              "      <td>northwest</td>\n",
              "      <td>5572.958427</td>\n",
              "    </tr>\n",
              "  </tbody>\n",
              "</table>\n",
              "</div>"
            ],
            "text/plain": [
              "      age     sex       bmi  children smoker     region       charges\n",
              "160    42  female  25.80200         0    yes  northwest  22629.628360\n",
              "1326   42  female  31.88390         0     no  northeast   7473.022578\n",
              "544    54    male  29.30370         0     no  northwest  10845.389894\n",
              "624    59    male  27.92145         0     no  northwest  12857.390999\n",
              "914    33    male  23.86685         2     no  northwest   5572.958427"
            ]
          },
          "execution_count": 98,
          "metadata": {},
          "output_type": "execute_result"
        }
      ],
      "source": [
        "dataframe = customize_dataset(dataframe_raw, your_name)\n",
        "dataframe.head()"
      ]
    },
    {
      "cell_type": "markdown",
      "metadata": {
        "id": "Jcq0V83a7xrv"
      },
      "source": [
        "Let us answer some basic questions about the dataset. \n",
        "\n",
        "\n",
        "**Q: How many rows does the dataset have?**"
      ]
    },
    {
      "cell_type": "code",
      "execution_count": null,
      "metadata": {
        "id": "tr9mEDYC7xrw",
        "outputId": "87848f16-869a-48d9-f0f5-7704d716097a"
      },
      "outputs": [
        {
          "name": "stdout",
          "output_type": "stream",
          "text": [
            "1271\n"
          ]
        }
      ],
      "source": [
        "dataframe.shape\n",
        "num_rows = dataframe.shape[0]\n",
        "print(num_rows)\n"
      ]
    },
    {
      "cell_type": "markdown",
      "metadata": {
        "id": "dTaDQV8_7xrx"
      },
      "source": [
        "**Q: How many columns doe the dataset have**"
      ]
    },
    {
      "cell_type": "code",
      "execution_count": null,
      "metadata": {
        "id": "lgC9PuZ97xry",
        "outputId": "66ab2c70-bf2b-4a35-b57f-65b65936bca8"
      },
      "outputs": [
        {
          "name": "stdout",
          "output_type": "stream",
          "text": [
            "7\n"
          ]
        },
        {
          "data": {
            "text/html": [
              "<div>\n",
              "<style scoped>\n",
              "    .dataframe tbody tr th:only-of-type {\n",
              "        vertical-align: middle;\n",
              "    }\n",
              "\n",
              "    .dataframe tbody tr th {\n",
              "        vertical-align: top;\n",
              "    }\n",
              "\n",
              "    .dataframe thead th {\n",
              "        text-align: right;\n",
              "    }\n",
              "</style>\n",
              "<table border=\"1\" class=\"dataframe\">\n",
              "  <thead>\n",
              "    <tr style=\"text-align: right;\">\n",
              "      <th></th>\n",
              "      <th>age</th>\n",
              "      <th>sex</th>\n",
              "      <th>bmi</th>\n",
              "      <th>children</th>\n",
              "      <th>smoker</th>\n",
              "      <th>region</th>\n",
              "      <th>charges</th>\n",
              "    </tr>\n",
              "  </thead>\n",
              "  <tbody>\n",
              "    <tr>\n",
              "      <th>160</th>\n",
              "      <td>42</td>\n",
              "      <td>female</td>\n",
              "      <td>25.80200</td>\n",
              "      <td>0</td>\n",
              "      <td>yes</td>\n",
              "      <td>northwest</td>\n",
              "      <td>22629.628360</td>\n",
              "    </tr>\n",
              "    <tr>\n",
              "      <th>1326</th>\n",
              "      <td>42</td>\n",
              "      <td>female</td>\n",
              "      <td>31.88390</td>\n",
              "      <td>0</td>\n",
              "      <td>no</td>\n",
              "      <td>northeast</td>\n",
              "      <td>7473.022578</td>\n",
              "    </tr>\n",
              "    <tr>\n",
              "      <th>544</th>\n",
              "      <td>54</td>\n",
              "      <td>male</td>\n",
              "      <td>29.30370</td>\n",
              "      <td>0</td>\n",
              "      <td>no</td>\n",
              "      <td>northwest</td>\n",
              "      <td>10845.389894</td>\n",
              "    </tr>\n",
              "    <tr>\n",
              "      <th>624</th>\n",
              "      <td>59</td>\n",
              "      <td>male</td>\n",
              "      <td>27.92145</td>\n",
              "      <td>0</td>\n",
              "      <td>no</td>\n",
              "      <td>northwest</td>\n",
              "      <td>12857.390999</td>\n",
              "    </tr>\n",
              "    <tr>\n",
              "      <th>914</th>\n",
              "      <td>33</td>\n",
              "      <td>male</td>\n",
              "      <td>23.86685</td>\n",
              "      <td>2</td>\n",
              "      <td>no</td>\n",
              "      <td>northwest</td>\n",
              "      <td>5572.958427</td>\n",
              "    </tr>\n",
              "  </tbody>\n",
              "</table>\n",
              "</div>"
            ],
            "text/plain": [
              "      age     sex       bmi  children smoker     region       charges\n",
              "160    42  female  25.80200         0    yes  northwest  22629.628360\n",
              "1326   42  female  31.88390         0     no  northeast   7473.022578\n",
              "544    54    male  29.30370         0     no  northwest  10845.389894\n",
              "624    59    male  27.92145         0     no  northwest  12857.390999\n",
              "914    33    male  23.86685         2     no  northwest   5572.958427"
            ]
          },
          "execution_count": 100,
          "metadata": {},
          "output_type": "execute_result"
        }
      ],
      "source": [
        "num_cols = dataframe.shape[1]\n",
        "print(num_cols)\n",
        "dataframe.head()\n"
      ]
    },
    {
      "cell_type": "markdown",
      "metadata": {
        "id": "1EV9Zk9V7xry"
      },
      "source": [
        "**Q: What are the column titles of the input variables?**"
      ]
    },
    {
      "cell_type": "code",
      "execution_count": null,
      "metadata": {
        "id": "p0QJifBx7xrz"
      },
      "outputs": [],
      "source": [
        "input_cols = ['age','sex','bmi','children','smoker','charges']"
      ]
    },
    {
      "cell_type": "markdown",
      "metadata": {
        "id": "FARfplzy7xrz"
      },
      "source": [
        "**Q: Which of the input columns are non-numeric or categorial variables ?**\n",
        "\n",
        "Hint: `sex` is one of them. List the columns that are not numbers."
      ]
    },
    {
      "cell_type": "code",
      "execution_count": null,
      "metadata": {
        "id": "VmMhX-9z7xr0"
      },
      "outputs": [],
      "source": [
        "categorical_cols = ['sex','smoker']"
      ]
    },
    {
      "cell_type": "markdown",
      "metadata": {
        "id": "aHnTVzXI7xr0"
      },
      "source": [
        "**Q: What are the column titles of output/target variable(s)?**"
      ]
    },
    {
      "cell_type": "code",
      "execution_count": null,
      "metadata": {
        "id": "ItQQscdi7xr1"
      },
      "outputs": [],
      "source": [
        "output_cols = ['charges']"
      ]
    },
    {
      "cell_type": "markdown",
      "metadata": {
        "id": "u_XAQbfS7xr1"
      },
      "source": [
        "Remember to commit your notebook to Jovian after every step, so that you don't lose your work."
      ]
    },
    {
      "cell_type": "code",
      "execution_count": null,
      "metadata": {
        "id": "mlEp_QTm7xr2",
        "outputId": "97aed4ac-7705-4619-a717-80137852f05b"
      },
      "outputs": [
        {
          "data": {
            "application/javascript": [
              "window.require && require([\"base/js/namespace\"],function(Jupyter){Jupyter.notebook.save_checkpoint()})"
            ],
            "text/plain": [
              "<IPython.core.display.Javascript object>"
            ]
          },
          "metadata": {},
          "output_type": "display_data"
        },
        {
          "name": "stdout",
          "output_type": "stream",
          "text": [
            "[jovian] Attempting to save notebook..\u001b[0m\n",
            "[jovian] Updating notebook \"najlaahassabelnabi/02-insurance-linear-regression\" on https://jovian.ml/\u001b[0m\n",
            "[jovian] Uploading notebook..\u001b[0m\n",
            "[jovian] Committed successfully! https://jovian.ml/najlaahassabelnabi/02-insurance-linear-regression\u001b[0m\n"
          ]
        },
        {
          "data": {
            "text/plain": [
              "'https://jovian.ml/najlaahassabelnabi/02-insurance-linear-regression'"
            ]
          },
          "execution_count": 105,
          "metadata": {},
          "output_type": "execute_result"
        }
      ],
      "source": [
        "jovian.commit(project=project_name, environment=None)"
      ]
    },
    {
      "cell_type": "markdown",
      "metadata": {
        "id": "6JOt4Fxg7xr2"
      },
      "source": [
        "## Step 2: Prepare the dataset for training\n",
        "\n",
        "We need to convert the data from the Pandas dataframe into a PyTorch tensors for training. To do this, the first step is to convert it numpy arrays. If you've filled out `input_cols`, `categorial_cols` and `output_cols` correctly, this following function will perform the conversion to numpy arrays."
      ]
    },
    {
      "cell_type": "code",
      "execution_count": null,
      "metadata": {
        "id": "MkbJL-nz7xr3"
      },
      "outputs": [],
      "source": [
        "def dataframe_to_arrays(dataframe):\n",
        "    # Make a copy of the original dataframe\n",
        "    dataframe1 = dataframe.copy(deep=True)\n",
        "    # Convert non-numeric categorical columns to numbers\n",
        "    for col in categorical_cols:\n",
        "        dataframe1[col] = dataframe1[col].astype('category').cat.codes\n",
        "    # Extract input & outupts as numpy arrays\n",
        "    inputs_array = dataframe1[input_cols].to_numpy()\n",
        "    targets_array = dataframe1[output_cols].to_numpy()\n",
        "    return inputs_array, targets_array"
      ]
    },
    {
      "cell_type": "markdown",
      "metadata": {
        "id": "CveKud8z7xr3"
      },
      "source": [
        "Read through the [Pandas documentation](https://pandas.pydata.org/pandas-docs/stable/user_guide/categorical.html) to understand how we're converting categorical variables into numbers."
      ]
    },
    {
      "cell_type": "code",
      "execution_count": null,
      "metadata": {
        "id": "Zo9zRQoZ7xr3",
        "outputId": "b09975c8-918d-42ec-f854-0bd1ee0850de"
      },
      "outputs": [
        {
          "data": {
            "text/plain": [
              "(array([[4.20000000e+01, 0.00000000e+00, 2.58020000e+01, 0.00000000e+00,\n",
              "         1.00000000e+00, 2.26296284e+04],\n",
              "        [4.20000000e+01, 0.00000000e+00, 3.18839000e+01, 0.00000000e+00,\n",
              "         0.00000000e+00, 7.47302258e+03],\n",
              "        [5.40000000e+01, 1.00000000e+00, 2.93037000e+01, 0.00000000e+00,\n",
              "         0.00000000e+00, 1.08453899e+04],\n",
              "        ...,\n",
              "        [4.00000000e+01, 0.00000000e+00, 2.46962000e+01, 1.00000000e+00,\n",
              "         0.00000000e+00, 7.50182076e+03],\n",
              "        [5.50000000e+01, 1.00000000e+00, 3.65835500e+01, 3.00000000e+00,\n",
              "         0.00000000e+00, 3.18673954e+04],\n",
              "        [3.60000000e+01, 1.00000000e+00, 2.71842500e+01, 1.00000000e+00,\n",
              "         1.00000000e+00, 2.20200454e+04]]),\n",
              " array([[22629.62836 ],\n",
              "        [ 7473.022578],\n",
              "        [10845.389894],\n",
              "        ...,\n",
              "        [ 7501.820764],\n",
              "        [31867.395383],\n",
              "        [22020.045415]]))"
            ]
          },
          "execution_count": 107,
          "metadata": {},
          "output_type": "execute_result"
        }
      ],
      "source": [
        "inputs_array, targets_array = dataframe_to_arrays(dataframe)\n",
        "inputs_array, targets_array"
      ]
    },
    {
      "cell_type": "markdown",
      "metadata": {
        "id": "hatWgvjW7xr5"
      },
      "source": [
        "**Q: Convert the numpy arrays `inputs_array` and `targets_array` into PyTorch tensors. Make sure that the data type is `torch.float32`.**"
      ]
    },
    {
      "cell_type": "code",
      "execution_count": null,
      "metadata": {
        "id": "5LYxmZnS7xr5"
      },
      "outputs": [],
      "source": [
        "inputs = torch.from_numpy(inputs_array)\n",
        "targets = torch.from_numpy(targets_array)\n",
        "inputs= inputs.type(torch.float32)\n",
        "targets = targets.type(torch.float32)"
      ]
    },
    {
      "cell_type": "code",
      "execution_count": null,
      "metadata": {
        "id": "-lpxaRkV7xr6",
        "outputId": "2cb14799-e166-44a4-82b9-c6d6b8b82a25"
      },
      "outputs": [
        {
          "data": {
            "text/plain": [
              "(torch.float32, torch.float32)"
            ]
          },
          "execution_count": 130,
          "metadata": {},
          "output_type": "execute_result"
        }
      ],
      "source": [
        "inputs.dtype, targets.dtype"
      ]
    },
    {
      "cell_type": "markdown",
      "metadata": {
        "id": "2uTNeZF97xr7"
      },
      "source": [
        "Next, we need to create PyTorch datasets & data loaders for training & validation. We'll start by creating a `TensorDataset`."
      ]
    },
    {
      "cell_type": "code",
      "execution_count": null,
      "metadata": {
        "id": "wHrPmri87xr7"
      },
      "outputs": [],
      "source": [
        "dataset = TensorDataset(inputs, targets)"
      ]
    },
    {
      "cell_type": "markdown",
      "metadata": {
        "id": "foMTN6_S7xr8"
      },
      "source": [
        "**Q: Pick a number between `0.1` and `0.2` to determine the fraction of data that will be used for creating the validation set. Then use `random_split` to create training & validation datasets. **"
      ]
    },
    {
      "cell_type": "code",
      "execution_count": null,
      "metadata": {
        "id": "1r1skEnF7xr8"
      },
      "outputs": [],
      "source": [
        "val_percent = .15 # between 0.1 and 0.2\n",
        "val_size = int(num_rows * val_percent)\n",
        "train_size = num_rows - val_size\n",
        "\n",
        "\n",
        "train_ds, val_ds = random_split(dataset, [train_size, val_size]) # Use the random_split function to split dataset into 2 parts of the desired length"
      ]
    },
    {
      "cell_type": "markdown",
      "metadata": {
        "id": "xzkafEvV7xr9"
      },
      "source": [
        "Finally, we can create data loaders for training & validation.\n",
        "\n",
        "**Q: Pick a batch size for the data loader.**"
      ]
    },
    {
      "cell_type": "code",
      "execution_count": null,
      "metadata": {
        "id": "ssQzo5M37xr9"
      },
      "outputs": [],
      "source": [
        "batch_size = 200"
      ]
    },
    {
      "cell_type": "code",
      "execution_count": null,
      "metadata": {
        "id": "tqzaO3oe7xr9"
      },
      "outputs": [],
      "source": [
        "train_loader = DataLoader(train_ds, batch_size, shuffle=True)\n",
        "val_loader = DataLoader(val_ds, batch_size)"
      ]
    },
    {
      "cell_type": "markdown",
      "metadata": {
        "id": "RbcHA6mu7xr-"
      },
      "source": [
        "Let's look at a batch of data to verify everything is working fine so far."
      ]
    },
    {
      "cell_type": "code",
      "execution_count": null,
      "metadata": {
        "id": "5t8PjpvJ7xr-",
        "outputId": "1c54ab93-8427-4be0-9075-9b2147578222"
      },
      "outputs": [
        {
          "name": "stdout",
          "output_type": "stream",
          "text": [
            "inputs: tensor([[5.5000e+01, 1.0000e+00, 3.6181e+01, 0.0000e+00, 0.0000e+00, 2.1868e+04],\n",
            "        [5.4000e+01, 0.0000e+00, 2.8014e+01, 2.0000e+00, 0.0000e+00, 1.2822e+04],\n",
            "        [5.5000e+01, 1.0000e+00, 3.4188e+01, 1.0000e+00, 0.0000e+00, 1.2078e+04],\n",
            "        ...,\n",
            "        [5.8000e+01, 1.0000e+00, 3.4998e+01, 0.0000e+00, 0.0000e+00, 1.2045e+04],\n",
            "        [2.7000e+01, 0.0000e+00, 3.3756e+01, 1.0000e+00, 0.0000e+00, 3.7927e+03],\n",
            "        [2.0000e+01, 0.0000e+00, 2.7921e+01, 0.0000e+00, 0.0000e+00, 2.6046e+03]])\n",
            "targets: tensor([[21868.0996],\n",
            "        [12822.4502],\n",
            "        [12077.7100],\n",
            "        [ 5754.4512],\n",
            "        [41338.4570],\n",
            "        [17275.7168],\n",
            "        [ 5630.8999],\n",
            "        [23671.4609],\n",
            "        [12857.3906],\n",
            "        [ 1209.9318],\n",
            "        [ 4171.2905],\n",
            "        [ 7207.4253],\n",
            "        [13599.2227],\n",
            "        [ 6790.7954],\n",
            "        [13088.0020],\n",
            "        [ 5785.5293],\n",
            "        [ 4227.2017],\n",
            "        [ 3693.3909],\n",
            "        [ 3420.7483],\n",
            "        [ 4950.8784],\n",
            "        [11061.1689],\n",
            "        [14720.4365],\n",
            "        [22760.8281],\n",
            "        [ 5813.5352],\n",
            "        [ 2333.1628],\n",
            "        [27675.8887],\n",
            "        [19724.7578],\n",
            "        [15283.3770],\n",
            "        [ 6035.0361],\n",
            "        [10885.6279],\n",
            "        [ 5952.2910],\n",
            "        [ 5806.7192],\n",
            "        [ 7603.7617],\n",
            "        [11474.7686],\n",
            "        [ 5304.0840],\n",
            "        [10452.6865],\n",
            "        [43163.7852],\n",
            "        [ 2228.4006],\n",
            "        [23843.2793],\n",
            "        [ 4436.2036],\n",
            "        [20367.5879],\n",
            "        [18156.1309],\n",
            "        [44466.1992],\n",
            "        [20293.2520],\n",
            "        [ 2643.6633],\n",
            "        [ 1831.1924],\n",
            "        [13149.1719],\n",
            "        [ 2621.7341],\n",
            "        [19893.8027],\n",
            "        [ 1606.2656],\n",
            "        [ 6777.2197],\n",
            "        [ 4969.0649],\n",
            "        [10590.5000],\n",
            "        [11214.4941],\n",
            "        [ 8504.5234],\n",
            "        [10766.1904],\n",
            "        [ 2328.2615],\n",
            "        [ 5800.7959],\n",
            "        [12141.2627],\n",
            "        [ 1947.5188],\n",
            "        [12547.3896],\n",
            "        [42844.1602],\n",
            "        [10461.9990],\n",
            "        [ 2440.4380],\n",
            "        [ 5384.9019],\n",
            "        [14549.0000],\n",
            "        [ 7349.2368],\n",
            "        [34035.1836],\n",
            "        [16767.0645],\n",
            "        [16080.2734],\n",
            "        [27580.0879],\n",
            "        [42510.1250],\n",
            "        [13386.9160],\n",
            "        [ 5031.1245],\n",
            "        [10446.4395],\n",
            "        [13792.9414],\n",
            "        [13663.4609],\n",
            "        [14453.7764],\n",
            "        [39713.2656],\n",
            "        [ 6102.8584],\n",
            "        [45428.2500],\n",
            "        [12552.9883],\n",
            "        [18110.3828],\n",
            "        [ 4704.5591],\n",
            "        [38250.3320],\n",
            "        [ 7887.9912],\n",
            "        [ 2686.4573],\n",
            "        [ 9352.6758],\n",
            "        [42226.7109],\n",
            "        [27048.1406],\n",
            "        [18813.4160],\n",
            "        [19341.2852],\n",
            "        [11623.3730],\n",
            "        [49030.4180],\n",
            "        [ 5555.2109],\n",
            "        [35942.0000],\n",
            "        [ 4516.3887],\n",
            "        [13565.0420],\n",
            "        [ 1316.7957],\n",
            "        [ 4385.7739],\n",
            "        [50106.0469],\n",
            "        [ 8800.6875],\n",
            "        [ 4089.2249],\n",
            "        [21162.6309],\n",
            "        [14433.3398],\n",
            "        [11747.5322],\n",
            "        [ 8603.2451],\n",
            "        [ 4655.1509],\n",
            "        [ 3596.5554],\n",
            "        [51753.9180],\n",
            "        [ 9132.2178],\n",
            "        [22534.9414],\n",
            "        [10993.1670],\n",
            "        [ 3554.6785],\n",
            "        [ 1764.8995],\n",
            "        [11499.0225],\n",
            "        [46378.5391],\n",
            "        [11928.6260],\n",
            "        [17581.6875],\n",
            "        [19116.0059],\n",
            "        [ 4801.2456],\n",
            "        [ 6667.1401],\n",
            "        [21951.5625],\n",
            "        [ 1875.7035],\n",
            "        [ 5218.2910],\n",
            "        [13004.7500],\n",
            "        [ 8747.4209],\n",
            "        [23077.6230],\n",
            "        [ 3039.1467],\n",
            "        [14279.0527],\n",
            "        [11984.2910],\n",
            "        [42690.0625],\n",
            "        [ 8508.2666],\n",
            "        [ 4730.9976],\n",
            "        [12543.8096],\n",
            "        [43358.4531],\n",
            "        [13234.9492],\n",
            "        [ 5583.8872],\n",
            "        [11750.7217],\n",
            "        [14886.0850],\n",
            "        [44176.6445],\n",
            "        [10676.3779],\n",
            "        [ 3261.7212],\n",
            "        [41929.8828],\n",
            "        [ 6051.7144],\n",
            "        [29617.7656],\n",
            "        [ 9693.2393],\n",
            "        [ 1990.6052],\n",
            "        [21448.9453],\n",
            "        [ 1947.4712],\n",
            "        [ 6996.3828],\n",
            "        [10458.2832],\n",
            "        [ 6556.4399],\n",
            "        [11455.2490],\n",
            "        [ 1626.3628],\n",
            "        [50310.6680],\n",
            "        [ 6737.6470],\n",
            "        [ 4666.3672],\n",
            "        [ 1316.0590],\n",
            "        [ 7892.6729],\n",
            "        [ 2141.7854],\n",
            "        [ 2549.0178],\n",
            "        [ 6843.2144],\n",
            "        [14368.3057],\n",
            "        [15887.7383],\n",
            "        [12038.0605],\n",
            "        [67596.6562],\n",
            "        [23193.6699],\n",
            "        [13701.4395],\n",
            "        [13800.3105],\n",
            "        [11123.5830],\n",
            "        [12177.6162],\n",
            "        [24704.9395],\n",
            "        [15446.2041],\n",
            "        [10122.5391],\n",
            "        [ 1729.9584],\n",
            "        [14981.0195],\n",
            "        [ 7978.3086],\n",
            "        [11237.7305],\n",
            "        [19311.2520],\n",
            "        [ 2674.5596],\n",
            "        [ 7887.5161],\n",
            "        [ 6821.7612],\n",
            "        [ 1849.1329],\n",
            "        [47260.5820],\n",
            "        [20254.2461],\n",
            "        [10441.4580],\n",
            "        [ 1832.6309],\n",
            "        [ 5209.9634],\n",
            "        [11077.5850],\n",
            "        [ 4108.2783],\n",
            "        [ 9501.9043],\n",
            "        [ 3554.4810],\n",
            "        [ 4193.4355],\n",
            "        [21358.2832],\n",
            "        [39395.0742],\n",
            "        [ 2103.5205],\n",
            "        [12045.0801],\n",
            "        [ 3792.6790],\n",
            "        [ 2604.6438]])\n"
          ]
        }
      ],
      "source": [
        "for xb, yb in train_loader:\n",
        "    print(\"inputs:\", xb)\n",
        "    print(\"targets:\", yb)\n",
        "    break"
      ]
    },
    {
      "cell_type": "markdown",
      "metadata": {
        "id": "ryTFhDxA7xsA"
      },
      "source": [
        "Let's save our work by committing to Jovian."
      ]
    },
    {
      "cell_type": "code",
      "execution_count": null,
      "metadata": {
        "id": "KzxBintN7xsA",
        "outputId": "43df6ef5-4def-4429-9df6-50386c6fc927"
      },
      "outputs": [
        {
          "data": {
            "application/javascript": [
              "window.require && require([\"base/js/namespace\"],function(Jupyter){Jupyter.notebook.save_checkpoint()})"
            ],
            "text/plain": [
              "<IPython.core.display.Javascript object>"
            ]
          },
          "metadata": {},
          "output_type": "display_data"
        },
        {
          "name": "stdout",
          "output_type": "stream",
          "text": [
            "[jovian] Attempting to save notebook..\u001b[0m\n",
            "[jovian] Updating notebook \"najlaahassabelnabi/02-insurance-linear-regression\" on https://jovian.ml/\u001b[0m\n",
            "[jovian] Uploading notebook..\u001b[0m\n",
            "[jovian] Committed successfully! https://jovian.ml/najlaahassabelnabi/02-insurance-linear-regression\u001b[0m\n"
          ]
        },
        {
          "data": {
            "text/plain": [
              "'https://jovian.ml/najlaahassabelnabi/02-insurance-linear-regression'"
            ]
          },
          "execution_count": 136,
          "metadata": {},
          "output_type": "execute_result"
        }
      ],
      "source": [
        "jovian.commit(project=project_name, environment=None)"
      ]
    },
    {
      "cell_type": "markdown",
      "metadata": {
        "id": "YeaP_id57xsB"
      },
      "source": [
        "## Step 3: Create a Linear Regression Model\n",
        "\n",
        "Our model itself is a fairly straightforward linear regression (we'll build more complex models in the next assignment). \n"
      ]
    },
    {
      "cell_type": "code",
      "execution_count": null,
      "metadata": {
        "id": "Kdljdgpq7xsB"
      },
      "outputs": [],
      "source": [
        "input_size = len(input_cols)\n",
        "output_size = len(output_cols)"
      ]
    },
    {
      "cell_type": "markdown",
      "metadata": {
        "id": "UrKqZdBH7xsC"
      },
      "source": [
        "**Q: Complete the class definition below by filling out the constructor (`__init__`), `forward`, `training_step` and `validation_step` methods.**\n",
        "\n",
        "Hint: Think carefully about picking a good loss fuction (it's not cross entropy). Maybe try 2-3 of them and see which one works best. See https://pytorch.org/docs/stable/nn.functional.html#loss-functions"
      ]
    },
    {
      "cell_type": "code",
      "execution_count": null,
      "metadata": {
        "id": "ioAbqIe_7xsC"
      },
      "outputs": [],
      "source": [
        "class InsuranceModel(nn.Module):\n",
        "    def __init__(self):\n",
        "        super().__init__()\n",
        "        self.linear = nn.Linear(input_size, output_size)                  # fill this (hint: use input_size & output_size defined above)\n",
        "        \n",
        "    def forward(self, xb): \n",
        "        out = self.linear(xb)                      # fill this\n",
        "        return out\n",
        "    \n",
        "    def training_step(self, batch):\n",
        "        inputs, targets = batch \n",
        "        # Generate predictions\n",
        "        out = self(inputs)          \n",
        "        # Calcuate loss\n",
        "        loss = F.smooth_l1_loss(out,targets)                         # fill this\n",
        "        return loss\n",
        "    \n",
        "    def validation_step(self, batch):\n",
        "        inputs, targets = batch\n",
        "        # Generate predictions\n",
        "        out = self(inputs)\n",
        "        # Calculate loss\n",
        "        loss = F.smooth_l1_loss(out,targets)                           # fill this    \n",
        "        return {'val_loss': loss.detach()}\n",
        "        \n",
        "    def validation_epoch_end(self, outputs):\n",
        "        batch_losses = [x['val_loss'] for x in outputs]\n",
        "        epoch_loss = torch.stack(batch_losses).mean()   # Combine losses\n",
        "        return {'val_loss': epoch_loss.item()}\n",
        "    \n",
        "    def epoch_end(self, epoch, result, num_epochs):\n",
        "        # Print result every 20th epoch\n",
        "        if (epoch+1) % 20 == 0 or epoch == num_epochs-1:\n",
        "            print(\"Epoch [{}], val_loss: {:.4f}\".format(epoch+1, result['val_loss']))"
      ]
    },
    {
      "cell_type": "markdown",
      "metadata": {
        "id": "yaugeSfy7xsD"
      },
      "source": [
        "Let us create a model using the `InsuranceModel` class. You may need to come back later and re-run the next cell to reinitialize the model, in case the loss becomes `nan` or `infinity`."
      ]
    },
    {
      "cell_type": "code",
      "execution_count": null,
      "metadata": {
        "id": "WRDn4ibP7xsE"
      },
      "outputs": [],
      "source": [
        "model = InsuranceModel()"
      ]
    },
    {
      "cell_type": "markdown",
      "metadata": {
        "id": "KeKK4IlB7xsE"
      },
      "source": [
        "Let's check out the weights and biases of the model using `model.parameters`."
      ]
    },
    {
      "cell_type": "code",
      "execution_count": null,
      "metadata": {
        "id": "lkWdOXYw7xsE",
        "outputId": "28b7b4fb-838e-487a-9a42-a1344f7cdba8"
      },
      "outputs": [
        {
          "data": {
            "text/plain": [
              "[Parameter containing:\n",
              " tensor([[ 0.3221,  0.1326,  0.2952,  0.3380,  0.2223, -0.0353]],\n",
              "        requires_grad=True),\n",
              " Parameter containing:\n",
              " tensor([-0.3383], requires_grad=True)]"
            ]
          },
          "execution_count": 161,
          "metadata": {},
          "output_type": "execute_result"
        }
      ],
      "source": [
        "list(model.parameters())"
      ]
    },
    {
      "cell_type": "markdown",
      "metadata": {
        "id": "LW4mqUl27xsJ"
      },
      "source": [
        "One final commit before we train the model."
      ]
    },
    {
      "cell_type": "code",
      "execution_count": null,
      "metadata": {
        "id": "hZvLqEl57xsK",
        "outputId": "f238b871-8332-42eb-d457-a561425a02c8"
      },
      "outputs": [
        {
          "data": {
            "application/javascript": [
              "window.require && require([\"base/js/namespace\"],function(Jupyter){Jupyter.notebook.save_checkpoint()})"
            ],
            "text/plain": [
              "<IPython.core.display.Javascript object>"
            ]
          },
          "metadata": {},
          "output_type": "display_data"
        },
        {
          "name": "stdout",
          "output_type": "stream",
          "text": [
            "[jovian] Attempting to save notebook..\u001b[0m\n",
            "[jovian] Updating notebook \"najlaahassabelnabi/02-insurance-linear-regression\" on https://jovian.ml/\u001b[0m\n",
            "[jovian] Uploading notebook..\u001b[0m\n",
            "[jovian] Committed successfully! https://jovian.ml/najlaahassabelnabi/02-insurance-linear-regression\u001b[0m\n"
          ]
        },
        {
          "data": {
            "text/plain": [
              "'https://jovian.ml/najlaahassabelnabi/02-insurance-linear-regression'"
            ]
          },
          "execution_count": 162,
          "metadata": {},
          "output_type": "execute_result"
        }
      ],
      "source": [
        "jovian.commit(project=project_name, environment=None)"
      ]
    },
    {
      "cell_type": "markdown",
      "metadata": {
        "id": "F0eA4Kjh7xsK"
      },
      "source": [
        "## Step 4: Train the model to fit the data\n",
        "\n",
        "To train our model, we'll use the same `fit` function explained in the lecture. That's the benefit of defining a generic training loop - you can use it for any problem."
      ]
    },
    {
      "cell_type": "code",
      "execution_count": null,
      "metadata": {
        "id": "DWk4h4x87xsL"
      },
      "outputs": [],
      "source": [
        "def evaluate(model, val_loader):\n",
        "    outputs = [model.validation_step(batch) for batch in val_loader]\n",
        "    return model.validation_epoch_end(outputs)\n",
        "\n",
        "def fit(epochs, lr, model, train_loader, val_loader, opt_func=torch.optim.SGD):\n",
        "    history = []\n",
        "    optimizer = opt_func(model.parameters(), lr)\n",
        "    for epoch in range(epochs):\n",
        "        # Training Phase \n",
        "        for batch in train_loader:\n",
        "            loss = model.training_step(batch)\n",
        "            loss.backward()\n",
        "            optimizer.step()\n",
        "            optimizer.zero_grad()\n",
        "        # Validation phase\n",
        "        result = evaluate(model, val_loader)\n",
        "        model.epoch_end(epoch, result, epochs)\n",
        "        history.append(result)\n",
        "    return history"
      ]
    },
    {
      "cell_type": "markdown",
      "metadata": {
        "id": "kvJEPv307xsL"
      },
      "source": [
        "**Q: Use the `evaluate` function to calculate the loss on the validation set before training.**"
      ]
    },
    {
      "cell_type": "code",
      "execution_count": null,
      "metadata": {
        "id": "4norp9_57xsM",
        "outputId": "b30a95f4-a619-466d-8519-5100a6c7ab7d"
      },
      "outputs": [
        {
          "name": "stdout",
          "output_type": "stream",
          "text": [
            "{'val_loss': 14523.34375}\n"
          ]
        }
      ],
      "source": [
        "result =  evaluate(model, val_loader) # Use the the evaluate function\n",
        "print(result)"
      ]
    },
    {
      "cell_type": "markdown",
      "metadata": {
        "id": "n8Dt4N2r7xsM"
      },
      "source": [
        "\n",
        "We are now ready to train the model. You may need to run the training loop many times, for different number of epochs and with different learning rates, to get a good result. Also, if your loss becomes too large (or `nan`), you may have to re-initialize the model by running the cell `model = InsuranceModel()`. Experiment with this for a while, and try to get to as low a loss as possible."
      ]
    },
    {
      "cell_type": "markdown",
      "metadata": {
        "id": "OfLVnD7T7xsO"
      },
      "source": [
        "**Q: Train the model 4-5 times with different learning rates & for different number of epochs.**\n",
        "\n",
        "Hint: Vary learning rates by orders of 10 (e.g. `1e-2`, `1e-3`, `1e-4`, `1e-5`, `1e-6`) to figure out what works."
      ]
    },
    {
      "cell_type": "code",
      "execution_count": null,
      "metadata": {
        "id": "M-nNPNI57xsP"
      },
      "outputs": [],
      "source": [
        "model= InsuranceModel()"
      ]
    },
    {
      "cell_type": "code",
      "execution_count": null,
      "metadata": {
        "id": "xqiMrj3V7xsQ",
        "outputId": "624c4ebd-8fea-443c-e4d2-c574ffe73165"
      },
      "outputs": [
        {
          "name": "stdout",
          "output_type": "stream",
          "text": [
            "Epoch [20], val_loss: 1576105.1250\n",
            "Epoch [40], val_loss: 499771.7812\n",
            "Epoch [60], val_loss: 1850037.0000\n",
            "Epoch [80], val_loss: 739322.0000\n",
            "Epoch [100], val_loss: 1508991.1250\n",
            "Epoch [120], val_loss: 1234044.7500\n",
            "Epoch [140], val_loss: 1980278.6250\n",
            "Epoch [160], val_loss: 1816676.5000\n",
            "Epoch [180], val_loss: 715031.4375\n",
            "Epoch [200], val_loss: 581896.6250\n",
            "Epoch [220], val_loss: 271438.2812\n",
            "Epoch [240], val_loss: 1172244.2500\n",
            "Epoch [260], val_loss: 766297.9375\n",
            "Epoch [280], val_loss: 527256.0625\n",
            "Epoch [300], val_loss: 278594.9688\n",
            "Epoch [320], val_loss: 122828.2500\n",
            "Epoch [340], val_loss: 133305.9219\n",
            "Epoch [360], val_loss: 133929.4688\n",
            "Epoch [380], val_loss: 1539890.8750\n",
            "Epoch [400], val_loss: 2078271.1250\n",
            "Epoch [420], val_loss: 798086.6250\n",
            "Epoch [440], val_loss: 1656745.7500\n",
            "Epoch [460], val_loss: 2234105.2500\n",
            "Epoch [480], val_loss: 10090.5400\n",
            "Epoch [500], val_loss: 90471.3828\n",
            "Epoch [520], val_loss: 3465.3665\n",
            "Epoch [540], val_loss: 1328828.0000\n",
            "Epoch [560], val_loss: 1299547.2500\n",
            "Epoch [580], val_loss: 244252.0625\n",
            "Epoch [600], val_loss: 1585676.0000\n",
            "Epoch [620], val_loss: 1276396.0000\n",
            "Epoch [640], val_loss: 1608315.7500\n",
            "Epoch [660], val_loss: 307680.5625\n",
            "Epoch [680], val_loss: 1548146.3750\n",
            "Epoch [700], val_loss: 900371.9375\n",
            "Epoch [720], val_loss: 642692.5000\n",
            "Epoch [740], val_loss: 25793.3008\n",
            "Epoch [760], val_loss: 442693.7812\n",
            "Epoch [780], val_loss: 1279503.6250\n",
            "Epoch [800], val_loss: 104386.9375\n",
            "Epoch [820], val_loss: 833228.1250\n",
            "Epoch [840], val_loss: 1959054.6250\n",
            "Epoch [860], val_loss: 528192.6875\n",
            "Epoch [880], val_loss: 1871275.1250\n",
            "Epoch [900], val_loss: 1168344.2500\n",
            "Epoch [920], val_loss: 596348.1875\n",
            "Epoch [940], val_loss: 2118839.0000\n",
            "Epoch [960], val_loss: 755224.7500\n",
            "Epoch [980], val_loss: 825940.6875\n",
            "Epoch [1000], val_loss: 1321746.6250\n"
          ]
        }
      ],
      "source": [
        "epochs = 1000\n",
        "lr = 1e-2\n",
        "history1 = fit(epochs, lr, model, train_loader, val_loader)"
      ]
    },
    {
      "cell_type": "code",
      "execution_count": null,
      "metadata": {
        "id": "iVGdDjHy7xsQ",
        "outputId": "94b7c87e-9647-431c-cf54-cafd42b02a90"
      },
      "outputs": [
        {
          "name": "stdout",
          "output_type": "stream",
          "text": [
            "Epoch [20], val_loss: 110072.3125\n",
            "Epoch [40], val_loss: 1164.1057\n",
            "Epoch [60], val_loss: 64358.9727\n",
            "Epoch [80], val_loss: 31886.1445\n",
            "Epoch [100], val_loss: 53513.1172\n",
            "Epoch [120], val_loss: 145172.0312\n",
            "Epoch [140], val_loss: 20071.5352\n",
            "Epoch [160], val_loss: 183702.3438\n",
            "Epoch [180], val_loss: 29744.0859\n",
            "Epoch [200], val_loss: 44446.1680\n",
            "Epoch [220], val_loss: 19331.9102\n",
            "Epoch [240], val_loss: 8747.1914\n",
            "Epoch [260], val_loss: 87900.2578\n",
            "Epoch [280], val_loss: 57060.1641\n",
            "Epoch [300], val_loss: 107551.3438\n",
            "Epoch [320], val_loss: 175156.3125\n",
            "Epoch [340], val_loss: 79797.1797\n",
            "Epoch [360], val_loss: 62014.2148\n",
            "Epoch [380], val_loss: 202047.1562\n",
            "Epoch [400], val_loss: 51901.5781\n",
            "Epoch [420], val_loss: 144934.0000\n",
            "Epoch [440], val_loss: 150844.1562\n",
            "Epoch [460], val_loss: 101788.4922\n",
            "Epoch [480], val_loss: 130221.1797\n",
            "Epoch [500], val_loss: 157313.0781\n",
            "Epoch [520], val_loss: 14357.3330\n",
            "Epoch [540], val_loss: 38254.8477\n",
            "Epoch [560], val_loss: 43414.3906\n",
            "Epoch [580], val_loss: 178920.6250\n",
            "Epoch [600], val_loss: 160762.1250\n",
            "Epoch [620], val_loss: 123964.0703\n",
            "Epoch [640], val_loss: 72501.9375\n",
            "Epoch [660], val_loss: 67686.7344\n",
            "Epoch [680], val_loss: 161804.8281\n",
            "Epoch [700], val_loss: 73981.4609\n",
            "Epoch [720], val_loss: 2684.6267\n",
            "Epoch [740], val_loss: 145027.8750\n",
            "Epoch [760], val_loss: 196082.3438\n",
            "Epoch [780], val_loss: 45884.2461\n",
            "Epoch [800], val_loss: 186386.0781\n",
            "Epoch [820], val_loss: 28624.4941\n",
            "Epoch [840], val_loss: 28315.4980\n",
            "Epoch [860], val_loss: 76220.9688\n",
            "Epoch [880], val_loss: 146213.6250\n",
            "Epoch [900], val_loss: 148940.4531\n",
            "Epoch [920], val_loss: 74502.9766\n",
            "Epoch [940], val_loss: 155204.0156\n",
            "Epoch [960], val_loss: 2605.7280\n",
            "Epoch [980], val_loss: 170168.0312\n",
            "Epoch [1000], val_loss: 98406.1484\n"
          ]
        }
      ],
      "source": [
        "epochs = 1000\n",
        "lr = 1e-3\n",
        "history2 = fit(epochs, lr, model, train_loader, val_loader)"
      ]
    },
    {
      "cell_type": "code",
      "execution_count": null,
      "metadata": {
        "id": "qJSgR0fs7xsR",
        "outputId": "b2a54f00-59d7-41bf-cb83-41af5e705e1d"
      },
      "outputs": [
        {
          "name": "stdout",
          "output_type": "stream",
          "text": [
            "Epoch [20], val_loss: 3765.5779\n",
            "Epoch [40], val_loss: 7778.4614\n",
            "Epoch [60], val_loss: 15036.3213\n",
            "Epoch [80], val_loss: 11196.6943\n",
            "Epoch [100], val_loss: 15503.0068\n",
            "Epoch [120], val_loss: 5223.7612\n",
            "Epoch [140], val_loss: 7710.9551\n",
            "Epoch [160], val_loss: 7761.1177\n",
            "Epoch [180], val_loss: 18074.5996\n",
            "Epoch [200], val_loss: 5284.5508\n",
            "Epoch [220], val_loss: 17906.9609\n",
            "Epoch [240], val_loss: 6887.3848\n",
            "Epoch [260], val_loss: 16007.4482\n",
            "Epoch [280], val_loss: 19114.3691\n",
            "Epoch [300], val_loss: 13854.0537\n",
            "Epoch [320], val_loss: 18127.7402\n",
            "Epoch [340], val_loss: 13898.0986\n",
            "Epoch [360], val_loss: 3809.0527\n",
            "Epoch [380], val_loss: 19316.8105\n",
            "Epoch [400], val_loss: 9867.8105\n",
            "Epoch [420], val_loss: 11159.5566\n",
            "Epoch [440], val_loss: 11658.8057\n",
            "Epoch [460], val_loss: 14657.5293\n",
            "Epoch [480], val_loss: 12453.8701\n",
            "Epoch [500], val_loss: 8731.6855\n",
            "Epoch [520], val_loss: 6557.5781\n",
            "Epoch [540], val_loss: 1470.8756\n",
            "Epoch [560], val_loss: 8099.6880\n",
            "Epoch [580], val_loss: 12369.0615\n",
            "Epoch [600], val_loss: 201.7598\n",
            "Epoch [620], val_loss: 16620.3281\n",
            "Epoch [640], val_loss: 9899.8457\n",
            "Epoch [660], val_loss: 2592.5813\n",
            "Epoch [680], val_loss: 4637.0610\n",
            "Epoch [700], val_loss: 5798.0488\n",
            "Epoch [720], val_loss: 8803.6152\n",
            "Epoch [740], val_loss: 2725.7532\n",
            "Epoch [760], val_loss: 13304.6738\n",
            "Epoch [780], val_loss: 10886.3359\n",
            "Epoch [800], val_loss: 12066.5557\n",
            "Epoch [820], val_loss: 11668.4570\n",
            "Epoch [840], val_loss: 7962.8560\n",
            "Epoch [860], val_loss: 9644.9424\n",
            "Epoch [880], val_loss: 17915.0664\n",
            "Epoch [900], val_loss: 3145.7275\n",
            "Epoch [920], val_loss: 3792.4490\n",
            "Epoch [940], val_loss: 1924.2676\n",
            "Epoch [960], val_loss: 14274.8740\n",
            "Epoch [980], val_loss: 10999.9307\n",
            "Epoch [1000], val_loss: 4396.1396\n"
          ]
        }
      ],
      "source": [
        "epochs = 1000\n",
        "lr = 1e-4\n",
        "history3 = fit(epochs, lr, model, train_loader, val_loader)"
      ]
    },
    {
      "cell_type": "code",
      "execution_count": null,
      "metadata": {
        "id": "lwyyuG8N7xsU",
        "outputId": "2b455329-ad72-4f14-fa59-af1581ccb2d2"
      },
      "outputs": [
        {
          "name": "stdout",
          "output_type": "stream",
          "text": [
            "Epoch [20], val_loss: 311.7620\n",
            "Epoch [40], val_loss: 414.4626\n",
            "Epoch [60], val_loss: 1707.5326\n",
            "Epoch [80], val_loss: 1087.3689\n",
            "Epoch [100], val_loss: 508.7951\n",
            "Epoch [120], val_loss: 774.0616\n",
            "Epoch [140], val_loss: 1591.0365\n",
            "Epoch [160], val_loss: 1285.4282\n",
            "Epoch [180], val_loss: 75.7314\n",
            "Epoch [200], val_loss: 652.2518\n",
            "Epoch [220], val_loss: 531.6445\n",
            "Epoch [240], val_loss: 404.1709\n",
            "Epoch [260], val_loss: 1085.1062\n",
            "Epoch [280], val_loss: 885.9720\n",
            "Epoch [300], val_loss: 174.1944\n",
            "Epoch [320], val_loss: 413.1285\n",
            "Epoch [340], val_loss: 845.0218\n",
            "Epoch [360], val_loss: 515.8813\n",
            "Epoch [380], val_loss: 565.8024\n",
            "Epoch [400], val_loss: 453.9852\n",
            "Epoch [420], val_loss: 272.6574\n",
            "Epoch [440], val_loss: 1615.2401\n",
            "Epoch [460], val_loss: 1173.6631\n",
            "Epoch [480], val_loss: 1029.0856\n",
            "Epoch [500], val_loss: 1441.5221\n",
            "Epoch [520], val_loss: 1188.4391\n",
            "Epoch [540], val_loss: 381.0833\n",
            "Epoch [560], val_loss: 1611.1165\n",
            "Epoch [580], val_loss: 743.2242\n",
            "Epoch [600], val_loss: 822.1129\n",
            "Epoch [620], val_loss: 478.1828\n",
            "Epoch [640], val_loss: 1204.8213\n",
            "Epoch [660], val_loss: 874.1532\n",
            "Epoch [680], val_loss: 666.2646\n",
            "Epoch [700], val_loss: 1598.5079\n",
            "Epoch [720], val_loss: 938.6949\n",
            "Epoch [740], val_loss: 1433.6842\n",
            "Epoch [760], val_loss: 532.1077\n",
            "Epoch [780], val_loss: 1300.8835\n",
            "Epoch [800], val_loss: 1102.6321\n",
            "Epoch [820], val_loss: 1135.5253\n",
            "Epoch [840], val_loss: 1713.0240\n",
            "Epoch [860], val_loss: 970.6431\n",
            "Epoch [880], val_loss: 1501.5219\n",
            "Epoch [900], val_loss: 1287.8081\n",
            "Epoch [920], val_loss: 1481.6279\n",
            "Epoch [940], val_loss: 1241.4102\n",
            "Epoch [960], val_loss: 240.9534\n",
            "Epoch [980], val_loss: 981.8289\n",
            "Epoch [1000], val_loss: 1180.3448\n"
          ]
        }
      ],
      "source": [
        "epochs = 1000\n",
        "lr = 1e-5\n",
        "history4 = fit(epochs, lr, model, train_loader, val_loader)"
      ]
    },
    {
      "cell_type": "code",
      "execution_count": null,
      "metadata": {
        "id": "L3Q_qExm7xsV",
        "outputId": "882296f2-430f-4ad0-9813-e6e5585e5618"
      },
      "outputs": [
        {
          "name": "stdout",
          "output_type": "stream",
          "text": [
            "Epoch [20], val_loss: 118.9645\n",
            "Epoch [40], val_loss: 78.7778\n",
            "Epoch [60], val_loss: 93.1446\n",
            "Epoch [80], val_loss: 70.4832\n",
            "Epoch [100], val_loss: 69.6206\n",
            "Epoch [120], val_loss: 74.9604\n",
            "Epoch [140], val_loss: 75.1089\n",
            "Epoch [160], val_loss: 68.5344\n",
            "Epoch [180], val_loss: 71.6565\n",
            "Epoch [200], val_loss: 66.9502\n",
            "Epoch [220], val_loss: 120.5389\n",
            "Epoch [240], val_loss: 69.3646\n",
            "Epoch [260], val_loss: 155.2059\n",
            "Epoch [280], val_loss: 69.1223\n",
            "Epoch [300], val_loss: 74.0457\n",
            "Epoch [320], val_loss: 93.1409\n",
            "Epoch [340], val_loss: 69.9150\n",
            "Epoch [360], val_loss: 71.8067\n",
            "Epoch [380], val_loss: 65.5650\n",
            "Epoch [400], val_loss: 113.3208\n",
            "Epoch [420], val_loss: 113.5160\n",
            "Epoch [440], val_loss: 71.0549\n",
            "Epoch [460], val_loss: 82.2019\n",
            "Epoch [480], val_loss: 69.3346\n",
            "Epoch [500], val_loss: 73.4783\n",
            "Epoch [520], val_loss: 69.1892\n",
            "Epoch [540], val_loss: 130.2247\n",
            "Epoch [560], val_loss: 119.2645\n",
            "Epoch [580], val_loss: 86.7255\n",
            "Epoch [600], val_loss: 67.7410\n",
            "Epoch [620], val_loss: 65.3414\n",
            "Epoch [640], val_loss: 64.4349\n",
            "Epoch [660], val_loss: 98.1011\n",
            "Epoch [680], val_loss: 75.9020\n",
            "Epoch [700], val_loss: 69.7287\n",
            "Epoch [720], val_loss: 64.6332\n",
            "Epoch [740], val_loss: 64.1440\n",
            "Epoch [760], val_loss: 72.7271\n",
            "Epoch [780], val_loss: 67.2131\n",
            "Epoch [800], val_loss: 102.5202\n",
            "Epoch [820], val_loss: 87.2869\n",
            "Epoch [840], val_loss: 67.6945\n",
            "Epoch [860], val_loss: 64.8978\n",
            "Epoch [880], val_loss: 67.4373\n",
            "Epoch [900], val_loss: 162.6693\n",
            "Epoch [920], val_loss: 63.6538\n",
            "Epoch [940], val_loss: 63.9492\n",
            "Epoch [960], val_loss: 64.7155\n",
            "Epoch [980], val_loss: 70.9277\n",
            "Epoch [1000], val_loss: 63.7736\n"
          ]
        }
      ],
      "source": [
        "epochs = 1000\n",
        "lr = 1e-6\n",
        "history5 = fit(epochs, lr, model, train_loader, val_loader)"
      ]
    },
    {
      "cell_type": "markdown",
      "metadata": {
        "id": "8nZt7LhP7xsV"
      },
      "source": [
        "**Q: What is the final validation loss of your model?**"
      ]
    },
    {
      "cell_type": "code",
      "execution_count": null,
      "metadata": {
        "id": "Vj29AARq7xsW"
      },
      "outputs": [],
      "source": [
        "val_loss = 63.7736"
      ]
    },
    {
      "cell_type": "markdown",
      "metadata": {
        "id": "itkEkj8O7xsW"
      },
      "source": [
        "Let's log the final validation loss to Jovian and commit the notebook"
      ]
    },
    {
      "cell_type": "code",
      "execution_count": null,
      "metadata": {
        "id": "whGWmCoB7xsW",
        "outputId": "3e4762e2-9550-4ed9-c5fd-cd90768b8bf6"
      },
      "outputs": [
        {
          "name": "stdout",
          "output_type": "stream",
          "text": [
            "[jovian] Metrics logged.\u001b[0m\n"
          ]
        }
      ],
      "source": [
        "jovian.log_metrics(val_loss=val_loss)"
      ]
    },
    {
      "cell_type": "code",
      "execution_count": null,
      "metadata": {
        "id": "6U357Xd07xsW",
        "outputId": "96ff47b4-5e1d-4d66-c813-933781853f21"
      },
      "outputs": [
        {
          "data": {
            "application/javascript": [
              "window.require && require([\"base/js/namespace\"],function(Jupyter){Jupyter.notebook.save_checkpoint()})"
            ],
            "text/plain": [
              "<IPython.core.display.Javascript object>"
            ]
          },
          "metadata": {},
          "output_type": "display_data"
        },
        {
          "name": "stdout",
          "output_type": "stream",
          "text": [
            "[jovian] Attempting to save notebook..\u001b[0m\n",
            "[jovian] Updating notebook \"najlaahassabelnabi/02-insurance-linear-regression\" on https://jovian.ml/\u001b[0m\n",
            "[jovian] Uploading notebook..\u001b[0m\n",
            "[jovian] Attaching records (metrics, hyperparameters, dataset etc.)\u001b[0m\n",
            "[jovian] Committed successfully! https://jovian.ml/najlaahassabelnabi/02-insurance-linear-regression\u001b[0m\n"
          ]
        },
        {
          "data": {
            "text/plain": [
              "'https://jovian.ml/najlaahassabelnabi/02-insurance-linear-regression'"
            ]
          },
          "execution_count": 173,
          "metadata": {},
          "output_type": "execute_result"
        }
      ],
      "source": [
        "jovian.commit(project=project_name, environment=None)"
      ]
    },
    {
      "cell_type": "markdown",
      "metadata": {
        "id": "qnlk6Zq77xsW"
      },
      "source": [
        "Now scroll back up, re-initialize the model, and try different set of values for batch size, number of epochs, learning rate etc. Commit each experiment and use the \"Compare\" and \"View Diff\" options on Jovian to compare the different results."
      ]
    },
    {
      "cell_type": "markdown",
      "metadata": {
        "id": "K6r-Db3x7xsb"
      },
      "source": [
        "## Step 5: Make predictions using the trained model\n",
        "\n",
        "**Q: Complete the following function definition to make predictions on a single input**"
      ]
    },
    {
      "cell_type": "code",
      "execution_count": null,
      "metadata": {
        "id": "BW2XN5li7xsc"
      },
      "outputs": [],
      "source": [
        "def predict_single(input, target, model):\n",
        "    inputs = input.unsqueeze(0)\n",
        "    predictions =   model(inputs)             # fill this\n",
        "    prediction = predictions[0].detach()\n",
        "    print(\"Input:\", input)\n",
        "    print(\"Target:\", target)\n",
        "    print(\"Prediction:\", prediction)"
      ]
    },
    {
      "cell_type": "code",
      "execution_count": null,
      "metadata": {
        "id": "01_zOEEh7xsc",
        "outputId": "b3e0546f-b1c0-4871-f501-3eee4c005f06"
      },
      "outputs": [
        {
          "name": "stdout",
          "output_type": "stream",
          "text": [
            "Input: tensor([2.7000e+01, 1.0000e+00, 3.0196e+01, 1.0000e+00, 1.0000e+00, 3.6895e+04])\n",
            "Target: tensor([36894.8555])\n",
            "Prediction: tensor([36837.6211])\n"
          ]
        }
      ],
      "source": [
        "input, target = val_ds[0]\n",
        "predict_single(input, target, model)"
      ]
    },
    {
      "cell_type": "code",
      "execution_count": null,
      "metadata": {
        "id": "zi0sryyr7xuY",
        "outputId": "fa97b699-8f93-4998-f843-efe02af6fc2b"
      },
      "outputs": [
        {
          "name": "stdout",
          "output_type": "stream",
          "text": [
            "Input: tensor([2.9000e+01, 1.0000e+00, 2.6384e+01, 0.0000e+00, 0.0000e+00, 3.0381e+03])\n",
            "Target: tensor([3038.0564])\n",
            "Prediction: tensor([3109.0569])\n"
          ]
        }
      ],
      "source": [
        "input, target = val_ds[10]\n",
        "predict_single(input, target, model)"
      ]
    },
    {
      "cell_type": "code",
      "execution_count": null,
      "metadata": {
        "id": "AeT40SRJ7xuZ",
        "outputId": "eeef370a-13c4-46da-8050-358af29e6d78"
      },
      "outputs": [
        {
          "name": "stdout",
          "output_type": "stream",
          "text": [
            "Input: tensor([4.5000e+01, 0.0000e+00, 2.9580e+01, 1.0000e+00, 1.0000e+00, 4.2109e+04])\n",
            "Target: tensor([42109.0508])\n",
            "Prediction: tensor([42058.5898])\n"
          ]
        }
      ],
      "source": [
        "input, target = val_ds[23]\n",
        "predict_single(input, target, model)"
      ]
    },
    {
      "cell_type": "markdown",
      "metadata": {
        "id": "UKH_xQIM7xuZ"
      },
      "source": [
        "Are you happy with your model's predictions? Try to improve them further."
      ]
    },
    {
      "cell_type": "markdown",
      "metadata": {
        "id": "FIA2edb17xuZ"
      },
      "source": [
        "## (Optional) Step 6: Try another dataset & blog about it\n",
        "\n",
        "While this last step is optional for the submission of your assignment, we highly recommend that you do it. Try to clean up & replicate this notebook (or [this one](https://jovian.ml/aakashns/housing-linear-minimal), or [this one](https://jovian.ml/aakashns/mnist-logistic-minimal) ) for a different linear regression or logistic regression problem. This will help solidify your understanding, and give you a chance to differentiate the generic patters in machine learning from problem-specific details.\n",
        "\n",
        "Here are some sources to find good datasets:\n",
        "\n",
        "- https://lionbridge.ai/datasets/10-open-datasets-for-linear-regression/\n",
        "- https://www.kaggle.com/rtatman/datasets-for-regression-analysis\n",
        "- https://archive.ics.uci.edu/ml/datasets.php?format=&task=reg&att=&area=&numAtt=&numIns=&type=&sort=nameUp&view=table\n",
        "- https://people.sc.fsu.edu/~jburkardt/datasets/regression/regression.html\n",
        "- https://archive.ics.uci.edu/ml/datasets/wine+quality\n",
        "- https://pytorch.org/docs/stable/torchvision/datasets.html\n",
        "\n",
        "We also recommend that you write a blog about your approach to the problem. Here is a suggested structure for your post (feel free to experiment with it):\n",
        "\n",
        "- Interesting title & subtitle\n",
        "- Overview of what the blog covers (which dataset, linear regression or logistic regression, intro to PyTorch)\n",
        "- Downloading & exploring the data\n",
        "- Preparing the data for training\n",
        "- Creating a model using PyTorch\n",
        "- Training the model to fit the data\n",
        "- Your thoughts on how to experiment with different hyperparmeters to reduce loss\n",
        "- Making predictions using the model\n",
        "\n",
        "As with the previous assignment, you can [embed Juptyer notebook cells & outputs from Jovian](https://medium.com/jovianml/share-and-embed-jupyter-notebooks-online-with-jovian-ml-df709a03064e) into your blog. \n",
        "\n",
        "Don't forget to share your work on the forum: https://jovian.ml/forum/t/share-your-work-here-assignment-2/4931"
      ]
    },
    {
      "cell_type": "code",
      "execution_count": null,
      "metadata": {
        "id": "3hy6rTjR7xub",
        "outputId": "3c94184a-73d0-4b19-fbea-0bda3261f5d1"
      },
      "outputs": [
        {
          "data": {
            "application/javascript": [
              "window.require && require([\"base/js/namespace\"],function(Jupyter){Jupyter.notebook.save_checkpoint()})"
            ],
            "text/plain": [
              "<IPython.core.display.Javascript object>"
            ]
          },
          "metadata": {},
          "output_type": "display_data"
        },
        {
          "name": "stdout",
          "output_type": "stream",
          "text": [
            "[jovian] Attempting to save notebook..\u001b[0m\n",
            "[jovian] Updating notebook \"najlaahassabelnabi/02-insurance-linear-regression\" on https://jovian.ml/\u001b[0m\n",
            "[jovian] Uploading notebook..\u001b[0m\n",
            "[jovian] Attaching records (metrics, hyperparameters, dataset etc.)\u001b[0m\n",
            "[jovian] Committed successfully! https://jovian.ml/najlaahassabelnabi/02-insurance-linear-regression\u001b[0m\n"
          ]
        },
        {
          "data": {
            "application/javascript": [
              "window.require && require([\"base/js/namespace\"],function(Jupyter){Jupyter.notebook.save_checkpoint()})"
            ],
            "text/plain": [
              "<IPython.core.display.Javascript object>"
            ]
          },
          "metadata": {},
          "output_type": "display_data"
        },
        {
          "name": "stdout",
          "output_type": "stream",
          "text": [
            "[jovian] Attempting to save notebook..\u001b[0m\n"
          ]
        }
      ],
      "source": [
        "jovian.commit(project=project_name, environment=None)\n",
        "jovian.commit(project=project_name, environment=None) # try again, kaggle fails sometimes"
      ]
    },
    {
      "cell_type": "code",
      "execution_count": null,
      "metadata": {
        "id": "fSlo_lY47xuc"
      },
      "outputs": [],
      "source": [
        ""
      ]
    }
  ],
  "metadata": {
    "kernelspec": {
      "display_name": "Python 3",
      "language": "python",
      "name": "python3"
    },
    "language_info": {
      "codemirror_mode": {
        "name": "ipython",
        "version": 3
      },
      "file_extension": ".py",
      "mimetype": "text/x-python",
      "name": "python",
      "nbconvert_exporter": "python",
      "pygments_lexer": "ipython3",
      "version": "3.7.6"
    },
    "colab": {
      "name": "02-insurance-linear.ipynb",
      "provenance": []
    }
  },
  "nbformat": 4,
  "nbformat_minor": 0
}